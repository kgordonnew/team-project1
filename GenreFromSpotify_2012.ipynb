{
 "cells": [
  {
   "cell_type": "markdown",
   "metadata": {},
   "source": [
    "# Getting Genres from Spotify using Spotipy"
   ]
  },
  {
   "cell_type": "code",
   "execution_count": 108,
   "metadata": {},
   "outputs": [],
   "source": [
    "from nltk import FreqDist #Importing natural language toolkit (nltk) to create word frequency distribution\n",
    "from spotipy.oauth2 import SpotifyClientCredentials\n",
    "import spotipy\n",
    "import pprint\n",
    "import pandas as pd\n",
    "import matplotlib.pyplot as plt"
   ]
  },
  {
   "cell_type": "code",
   "execution_count": 109,
   "metadata": {},
   "outputs": [
    {
     "data": {
      "text/html": [
       "<div>\n",
       "<style scoped>\n",
       "    .dataframe tbody tr th:only-of-type {\n",
       "        vertical-align: middle;\n",
       "    }\n",
       "\n",
       "    .dataframe tbody tr th {\n",
       "        vertical-align: top;\n",
       "    }\n",
       "\n",
       "    .dataframe thead th {\n",
       "        text-align: right;\n",
       "    }\n",
       "</style>\n",
       "<table border=\"1\" class=\"dataframe\">\n",
       "  <thead>\n",
       "    <tr style=\"text-align: right;\">\n",
       "      <th></th>\n",
       "      <th>№</th>\n",
       "      <th>Title</th>\n",
       "      <th>Artist(s)</th>\n",
       "    </tr>\n",
       "  </thead>\n",
       "  <tbody>\n",
       "    <tr>\n",
       "      <th>0</th>\n",
       "      <td>1</td>\n",
       "      <td>\"Somebody That I Used to Know\"</td>\n",
       "      <td>Gotye featuring Kimbra</td>\n",
       "    </tr>\n",
       "    <tr>\n",
       "      <th>1</th>\n",
       "      <td>2</td>\n",
       "      <td>\"Call Me Maybe\"</td>\n",
       "      <td>Carly Rae Jepsen</td>\n",
       "    </tr>\n",
       "    <tr>\n",
       "      <th>2</th>\n",
       "      <td>3</td>\n",
       "      <td>\"We Are Young\"</td>\n",
       "      <td>Fun featuring Janelle Monáe</td>\n",
       "    </tr>\n",
       "    <tr>\n",
       "      <th>3</th>\n",
       "      <td>4</td>\n",
       "      <td>\"Payphone\"</td>\n",
       "      <td>Maroon 5 featuring Wiz Khalifa</td>\n",
       "    </tr>\n",
       "    <tr>\n",
       "      <th>4</th>\n",
       "      <td>5</td>\n",
       "      <td>\"Lights\"</td>\n",
       "      <td>Ellie Goulding</td>\n",
       "    </tr>\n",
       "  </tbody>\n",
       "</table>\n",
       "</div>"
      ],
      "text/plain": [
       "   №                           Title                       Artist(s)\n",
       "0  1  \"Somebody That I Used to Know\"          Gotye featuring Kimbra\n",
       "1  2                 \"Call Me Maybe\"                Carly Rae Jepsen\n",
       "2  3                  \"We Are Young\"     Fun featuring Janelle Monáe\n",
       "3  4                      \"Payphone\"  Maroon 5 featuring Wiz Khalifa\n",
       "4  5                        \"Lights\"                  Ellie Goulding"
      ]
     },
     "execution_count": 109,
     "metadata": {},
     "output_type": "execute_result"
    }
   ],
   "source": [
    "\n",
    "client_id = \"61fc722b270143c39a95b0d83113b103\"\n",
    "client_secret = \"a1b6d905ef364a4b9bd662f136c0892f\"\n",
    "\n",
    "\n",
    "client_credentials_manager = SpotifyClientCredentials(client_id=client_id, client_secret=client_secret)\n",
    "sp = spotipy.Spotify(client_credentials_manager=client_credentials_manager)\n",
    "\n",
    "file= \"newfile1.csv\"\n",
    "file2= \"Global_top_100\"\n",
    "# I found top 100 for 2017 csv on kaggle\n",
    "top100_12 = pd.read_csv(file)\n",
    "\n",
    "# result = sp.search('Thriller',type='track')\n",
    "# pprint.pprint(result)\n",
    "\n",
    "top100_12.head()"
   ]
  },
  {
   "cell_type": "code",
   "execution_count": 110,
   "metadata": {},
   "outputs": [],
   "source": [
    "url = \"https://api.spotify.com/v1/recommendations/available-genre-seeds\"\n",
    "client_id = \"61fc722b270143c39a95b0d83113b103\"\n",
    "client_secret = \"a1b6d905ef364a4b9bd662f136c0892f\" "
   ]
  },
  {
   "cell_type": "code",
   "execution_count": 111,
   "metadata": {},
   "outputs": [],
   "source": [
    "songs = []\n",
    "genres = []\n",
    "for song in range(0,len(top100_12['Artist(s)'])):\n",
    "    \n",
    "    #I put this in a try just in case the search result yields an error..or any api request yields an error\n",
    "    try:\n",
    "        # I search the song name and artist using spotipy, then I limit the number of search results to 1\n",
    "         track = sp.search(top100_12['Title'][song] + ' ' + top100_12['Artist(s)'][song],limit=1)\n",
    "            \n",
    "            # Here I am parsing the json return to get the artists' id so I can look up the artist\n",
    "         track_id = track['tracks']['items'][0]['artists'][0]['id']\n",
    "        # This gets the artists' spotify profile, which includes the genres reflected in their music\n",
    "         artist = sp.artist(track_id)\n",
    "         genres.append(artist['genres'])\n",
    "    except:\n",
    "        genres.append('n/a')"
   ]
  },
  {
   "cell_type": "code",
   "execution_count": 112,
   "metadata": {},
   "outputs": [
    {
     "data": {
      "text/plain": [
       "100"
      ]
     },
     "execution_count": 112,
     "metadata": {},
     "output_type": "execute_result"
    }
   ],
   "source": [
    "len(genres)"
   ]
  },
  {
   "cell_type": "code",
   "execution_count": 113,
   "metadata": {},
   "outputs": [
    {
     "data": {
      "text/html": [
       "<div>\n",
       "<style scoped>\n",
       "    .dataframe tbody tr th:only-of-type {\n",
       "        vertical-align: middle;\n",
       "    }\n",
       "\n",
       "    .dataframe tbody tr th {\n",
       "        vertical-align: top;\n",
       "    }\n",
       "\n",
       "    .dataframe thead th {\n",
       "        text-align: right;\n",
       "    }\n",
       "</style>\n",
       "<table border=\"1\" class=\"dataframe\">\n",
       "  <thead>\n",
       "    <tr style=\"text-align: right;\">\n",
       "      <th></th>\n",
       "      <th>№</th>\n",
       "      <th>Title</th>\n",
       "      <th>Artist(s)</th>\n",
       "      <th>genre</th>\n",
       "    </tr>\n",
       "  </thead>\n",
       "  <tbody>\n",
       "    <tr>\n",
       "      <th>0</th>\n",
       "      <td>1</td>\n",
       "      <td>\"Somebody That I Used to Know\"</td>\n",
       "      <td>Gotye featuring Kimbra</td>\n",
       "      <td>n/a</td>\n",
       "    </tr>\n",
       "    <tr>\n",
       "      <th>1</th>\n",
       "      <td>2</td>\n",
       "      <td>\"Call Me Maybe\"</td>\n",
       "      <td>Carly Rae Jepsen</td>\n",
       "      <td>[canadian pop, dance pop, electropop, indie po...</td>\n",
       "    </tr>\n",
       "    <tr>\n",
       "      <th>2</th>\n",
       "      <td>3</td>\n",
       "      <td>\"We Are Young\"</td>\n",
       "      <td>Fun featuring Janelle Monáe</td>\n",
       "      <td>n/a</td>\n",
       "    </tr>\n",
       "    <tr>\n",
       "      <th>3</th>\n",
       "      <td>4</td>\n",
       "      <td>\"Payphone\"</td>\n",
       "      <td>Maroon 5 featuring Wiz Khalifa</td>\n",
       "      <td>n/a</td>\n",
       "    </tr>\n",
       "    <tr>\n",
       "      <th>4</th>\n",
       "      <td>5</td>\n",
       "      <td>\"Lights\"</td>\n",
       "      <td>Ellie Goulding</td>\n",
       "      <td>[dance pop, edm, electropop, metropopolis, pop...</td>\n",
       "    </tr>\n",
       "  </tbody>\n",
       "</table>\n",
       "</div>"
      ],
      "text/plain": [
       "   №                           Title                       Artist(s)  \\\n",
       "0  1  \"Somebody That I Used to Know\"          Gotye featuring Kimbra   \n",
       "1  2                 \"Call Me Maybe\"                Carly Rae Jepsen   \n",
       "2  3                  \"We Are Young\"     Fun featuring Janelle Monáe   \n",
       "3  4                      \"Payphone\"  Maroon 5 featuring Wiz Khalifa   \n",
       "4  5                        \"Lights\"                  Ellie Goulding   \n",
       "\n",
       "                                               genre  \n",
       "0                                                n/a  \n",
       "1  [canadian pop, dance pop, electropop, indie po...  \n",
       "2                                                n/a  \n",
       "3                                                n/a  \n",
       "4  [dance pop, edm, electropop, metropopolis, pop...  "
      ]
     },
     "execution_count": 113,
     "metadata": {},
     "output_type": "execute_result"
    }
   ],
   "source": [
    "top100_12['genre'] = genres\n",
    "top100_12.head()"
   ]
  },
  {
   "cell_type": "code",
   "execution_count": 114,
   "metadata": {},
   "outputs": [
    {
     "data": {
      "text/plain": [
       "333"
      ]
     },
     "execution_count": 114,
     "metadata": {},
     "output_type": "execute_result"
    }
   ],
   "source": [
    "allGenres = []\n",
    "for gen in top100_12['genre']:\n",
    "    if gen != 'n/a':\n",
    "        for b in gen:\n",
    "            allGenres.append(b)\n",
    "len(allGenres)"
   ]
  },
  {
   "cell_type": "code",
   "execution_count": 139,
   "metadata": {},
   "outputs": [
    {
     "data": {
      "image/png": "[encoded data removed]",
      "text/plain": [
       "<Figure size 432x288 with 1 Axes>"
      ]
     },
     "metadata": {},
     "output_type": "display_data"
    },
    {
     "data": {
      "text/plain": [
       "<Figure size 432x288 with 0 Axes>"
      ]
     },
     "metadata": {},
     "output_type": "display_data"
    }
   ],
   "source": [
    "#I use FreqDist to automatically count the number of times a certain word, in this case genre, appears in the list\n",
    "genreDist = FreqDist(allGenres)\n",
    "\n",
    "#This is a plot of the frequency distribution. I believe there is much work to be done in terms of visualization\n",
    "# but I believe this is a start\n",
    "genreDist.plot()\n",
    "plt.tight_layout()\n",
    "plt.savefig(\"FreqDist_allGenres.png\")"
   ]
  },
  {
   "cell_type": "code",
   "execution_count": 116,
   "metadata": {},
   "outputs": [
    {
     "data": {
      "text/plain": [
       "FreqDist({'pop': 55, 'dance pop': 38, 'post-teen pop': 28, 'pop rap': 24, 'r&b': 15, 'contemporary country': 14, 'country': 14, 'country road': 12, 'rap': 11, 'neo mellow': 9, ...})"
      ]
     },
     "execution_count": 116,
     "metadata": {},
     "output_type": "execute_result"
    }
   ],
   "source": [
    "genreDist = FreqDist(allGenres)\n",
    "genreDist"
   ]
  },
  {
   "cell_type": "code",
   "execution_count": 127,
   "metadata": {},
   "outputs": [],
   "source": [
    "df = pd.DataFrame.from_dict(genreDist, orient='index')\n",
    "\n",
    "genre_count = df.rename_axis('Product Id').reset_index().rename(columns={0:'Count'})"
   ]
  },
  {
   "cell_type": "code",
   "execution_count": 142,
   "metadata": {},
   "outputs": [
    {
     "data": {
      "text/html": [
       "<div>\n",
       "<style scoped>\n",
       "    .dataframe tbody tr th:only-of-type {\n",
       "        vertical-align: middle;\n",
       "    }\n",
       "\n",
       "    .dataframe tbody tr th {\n",
       "        vertical-align: top;\n",
       "    }\n",
       "\n",
       "    .dataframe thead th {\n",
       "        text-align: right;\n",
       "    }\n",
       "</style>\n",
       "<table border=\"1\" class=\"dataframe\">\n",
       "  <thead>\n",
       "    <tr style=\"text-align: right;\">\n",
       "      <th></th>\n",
       "      <th>Product Id</th>\n",
       "      <th>Count</th>\n",
       "    </tr>\n",
       "  </thead>\n",
       "  <tbody>\n",
       "    <tr>\n",
       "      <th>4</th>\n",
       "      <td>pop</td>\n",
       "      <td>55</td>\n",
       "    </tr>\n",
       "    <tr>\n",
       "      <th>1</th>\n",
       "      <td>dance pop</td>\n",
       "      <td>38</td>\n",
       "    </tr>\n",
       "    <tr>\n",
       "      <th>5</th>\n",
       "      <td>post-teen pop</td>\n",
       "      <td>28</td>\n",
       "    </tr>\n",
       "    <tr>\n",
       "      <th>16</th>\n",
       "      <td>pop rap</td>\n",
       "      <td>24</td>\n",
       "    </tr>\n",
       "    <tr>\n",
       "      <th>9</th>\n",
       "      <td>r&amp;b</td>\n",
       "      <td>15</td>\n",
       "    </tr>\n",
       "  </tbody>\n",
       "</table>\n",
       "</div>"
      ],
      "text/plain": [
       "       Product Id  Count\n",
       "4             pop     55\n",
       "1       dance pop     38\n",
       "5   post-teen pop     28\n",
       "16        pop rap     24\n",
       "9             r&b     15"
      ]
     },
     "execution_count": 142,
     "metadata": {},
     "output_type": "execute_result"
    }
   ],
   "source": [
    "genre_count = genre_count.sort_values(by=\"Count\", ascending=False)\n",
    "genre_count.head()"
   ]
  },
  {
   "cell_type": "code",
   "execution_count": 143,
   "metadata": {},
   "outputs": [
    {
     "data": {
      "text/html": [
       "<div>\n",
       "<style scoped>\n",
       "    .dataframe tbody tr th:only-of-type {\n",
       "        vertical-align: middle;\n",
       "    }\n",
       "\n",
       "    .dataframe tbody tr th {\n",
       "        vertical-align: top;\n",
       "    }\n",
       "\n",
       "    .dataframe thead th {\n",
       "        text-align: right;\n",
       "    }\n",
       "</style>\n",
       "<table border=\"1\" class=\"dataframe\">\n",
       "  <thead>\n",
       "    <tr style=\"text-align: right;\">\n",
       "      <th></th>\n",
       "      <th>Music Genres</th>\n",
       "      <th>Genre Count</th>\n",
       "    </tr>\n",
       "  </thead>\n",
       "  <tbody>\n",
       "    <tr>\n",
       "      <th>0</th>\n",
       "      <td>Pop</td>\n",
       "      <td>181</td>\n",
       "    </tr>\n",
       "    <tr>\n",
       "      <th>1</th>\n",
       "      <td>Rap/Hip-Hop</td>\n",
       "      <td>19</td>\n",
       "    </tr>\n",
       "    <tr>\n",
       "      <th>2</th>\n",
       "      <td>EDM</td>\n",
       "      <td>5</td>\n",
       "    </tr>\n",
       "    <tr>\n",
       "      <th>3</th>\n",
       "      <td>Other</td>\n",
       "      <td>128</td>\n",
       "    </tr>\n",
       "  </tbody>\n",
       "</table>\n",
       "</div>"
      ],
      "text/plain": [
       "  Music Genres  Genre Count\n",
       "0          Pop          181\n",
       "1  Rap/Hip-Hop           19\n",
       "2          EDM            5\n",
       "3        Other          128"
      ]
     },
     "execution_count": 143,
     "metadata": {},
     "output_type": "execute_result"
    }
   ],
   "source": [
    "popCount = 0\n",
    "rapCount = 0\n",
    "edmCount = 0\n",
    "countryCount=0\n",
    "otherCount = 0\n",
    "for genre in allGenres:\n",
    "   if 'pop' in genre:\n",
    "       popCount = popCount + 1\n",
    "   elif('rap' or 'hip hop' or 'trap') in genre:\n",
    "       rapCount = rapCount + 1\n",
    "   elif('edm' or 'electro' or 'techno' or 'tropical') in genre:\n",
    "       edmCount = edmCount + 1\n",
    "   else:\n",
    "       otherCount = otherCount + 1\n",
    "\n",
    "condensedGenre = ['Pop','Rap/Hip-Hop','EDM','Other']\n",
    "summarizedGenres = pd.DataFrame({\"Music Genres\":condensedGenre, \"Genre Count\":[popCount,rapCount,edmCount,otherCount]})\n",
    "summarizedGenres"
   ]
  },
  {
   "cell_type": "code",
   "execution_count": 119,
   "metadata": {},
   "outputs": [
    {
     "data": {
      "text/plain": [
       "<matplotlib.axes._subplots.AxesSubplot at 0x24912c73390>"
      ]
     },
     "execution_count": 119,
     "metadata": {},
     "output_type": "execute_result"
    },
    {
     "data": {
      "image/png": "[encoded data removed]",
      "text/plain": [
       "<Figure size 432x288 with 1 Axes>"
      ]
     },
     "metadata": {},
     "output_type": "display_data"
    }
   ],
   "source": [
    "index = ['Pop', 'Rap/Hip-Hop', 'EDM']\n",
    "summarizedGenres.plot(kind='bar', stacked=True)"
   ]
  },
  {
   "cell_type": "code",
   "execution_count": 144,
   "metadata": {},
   "outputs": [
    {
     "data": {
      "image/png": "[encoded data removed]",
      "text/plain": [
       "<Figure size 432x288 with 1 Axes>"
      ]
     },
     "metadata": {},
     "output_type": "display_data"
    }
   ],
   "source": [
    "data = pd.DataFrame([\n",
    "        ('Pop','pop', 55),\n",
    "        ('Pop','dance pop', 38),\n",
    "        ('Pop','post-teen pop', 28),\n",
    "        ('Pop','canadian pop', 10),\n",
    "        ('Pop','viral pop', 7),\n",
    "        ('Rap','rap', 19),\n",
    "        ('Rap','pop rap', 24),\n",
    "        ('Rap','hip hop', 13),\n",
    "        ('Rap','trap music', 10),\n",
    "        ('Rap','southern hip hop', 8),\n",
    "        ('EDM','electropop', 5),\n",
    "        ('EDM','edm', 3),\n",
    "        ('EDM','tropical house', 3),\n",
    "    ], \n",
    "    columns=['Top Music Genres', 'Sub-Genres', 'value']\n",
    ")\n",
    "data = data.set_index(['Top Music Genres', 'Sub-Genres']).value\n",
    "\n",
    "data.unstack().sort_index(ascending=False).plot(kind='bar', stacked=True)\n",
    "plt.title(\"Top 3 Music Genres in 2012\")\n",
    "plt.legend(title=\"Sub-Genres\",loc='center left', bbox_to_anchor=(1.0, 0.5))\n",
    "plt.ylabel(\"Genre Count\")\n",
    "plt.tight_layout()\n",
    "# data.sort_index(ascending=False)\n",
    "plt.savefig(\"stackedbar2012.png\")"
   ]
  },
  {
   "cell_type": "code",
   "execution_count": 141,
   "metadata": {},
   "outputs": [
    {
     "data": {
      "text/html": [
       "<div>\n",
       "<style scoped>\n",
       "    .dataframe tbody tr th:only-of-type {\n",
       "        vertical-align: middle;\n",
       "    }\n",
       "\n",
       "    .dataframe tbody tr th {\n",
       "        vertical-align: top;\n",
       "    }\n",
       "\n",
       "    .dataframe thead th {\n",
       "        text-align: right;\n",
       "    }\n",
       "</style>\n",
       "<table border=\"1\" class=\"dataframe\">\n",
       "  <thead>\n",
       "    <tr style=\"text-align: right;\">\n",
       "      <th></th>\n",
       "      <th>Genre</th>\n",
       "      <th>Count</th>\n",
       "    </tr>\n",
       "  </thead>\n",
       "  <tbody>\n",
       "    <tr>\n",
       "      <th>0</th>\n",
       "      <td>Pop</td>\n",
       "      <td>181</td>\n",
       "    </tr>\n",
       "    <tr>\n",
       "      <th>1</th>\n",
       "      <td>Rap/Hip-Hop</td>\n",
       "      <td>19</td>\n",
       "    </tr>\n",
       "    <tr>\n",
       "      <th>2</th>\n",
       "      <td>EDM</td>\n",
       "      <td>5</td>\n",
       "    </tr>\n",
       "    <tr>\n",
       "      <th>3</th>\n",
       "      <td>Misc.</td>\n",
       "      <td>128</td>\n",
       "    </tr>\n",
       "  </tbody>\n",
       "</table>\n",
       "</div>"
      ],
      "text/plain": [
       "         Genre  Count\n",
       "0          Pop    181\n",
       "1  Rap/Hip-Hop     19\n",
       "2          EDM      5\n",
       "3        Misc.    128"
      ]
     },
     "execution_count": 141,
     "metadata": {},
     "output_type": "execute_result"
    }
   ],
   "source": [
    "popCount = 0\n",
    "rapCount = 0\n",
    "edmCount = 0\n",
    "misCount = 0\n",
    "for genre in allGenres:\n",
    "    if 'pop' in genre:\n",
    "        popCount = popCount + 1\n",
    "    elif('rap' or 'hip hop' or 'trap') in genre:\n",
    "        rapCount = rapCount + 1\n",
    "    elif('edm' or 'electro' or 'techno') in genre:\n",
    "        edmCount = edmCount + 1\n",
    "    else:\n",
    "        misCount = misCount + 1\n",
    "\n",
    "condensedGenre = ['Pop','Rap/Hip-Hop','EDM','Misc.']\n",
    "summarizedGenres = pd.DataFrame({\"Genre\":condensedGenre, \"Count\":[popCount,rapCount,edmCount,misCount]})\n",
    "summarizedGenres"
   ]
  },
  {
   "cell_type": "code",
   "execution_count": 136,
   "metadata": {},
   "outputs": [
    {
     "data": {
      "text/plain": [
       "181"
      ]
     },
     "execution_count": 136,
     "metadata": {},
     "output_type": "execute_result"
    }
   ],
   "source": [
    "popCount"
   ]
  },
  {
   "cell_type": "code",
   "execution_count": 137,
   "metadata": {},
   "outputs": [
    {
     "data": {
      "text/plain": [
       "19"
      ]
     },
     "execution_count": 137,
     "metadata": {},
     "output_type": "execute_result"
    }
   ],
   "source": [
    "rapCount"
   ]
  },
  {
   "cell_type": "code",
   "execution_count": null,
   "metadata": {},
   "outputs": [],
   "source": []
  }
 ],
 "metadata": {
  "kernelspec": {
   "display_name": "Python 3",
   "language": "python",
   "name": "python3"
  },
  "language_info": {
   "codemirror_mode": {
    "name": "ipython",
    "version": 3
   },
   "file_extension": ".py",
   "mimetype": "text/x-python",
   "name": "python",
   "nbconvert_exporter": "python",
   "pygments_lexer": "ipython3",
   "version": "3.6.5"
  }
 },
 "nbformat": 4,
 "nbformat_minor": 2
}
